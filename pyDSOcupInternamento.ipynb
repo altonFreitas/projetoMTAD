{
 "cells": [
  {
   "cell_type": "code",
   "execution_count": 2,
   "metadata": {},
   "outputs": [
    {
     "name": "stdout",
     "output_type": "stream",
     "text": [
      "    Período                       Região  \\\n",
      "0   2013-01  Região de Saúde do Alentejo   \n",
      "1   2013-01    Região de Saúde do Centro   \n",
      "2   2013-01          Região de Saúde LVT   \n",
      "3   2013-01          Região de Saúde LVT   \n",
      "4   2013-01        Região de Saúde Norte   \n",
      "..      ...                          ...   \n",
      "95  2013-10          Região de Saúde LVT   \n",
      "96  2013-10          Região de Saúde LVT   \n",
      "97  2013-10        Região de Saúde Norte   \n",
      "98  2013-10        Região de Saúde Norte   \n",
      "99  2013-11    Região de Saúde do Centro   \n",
      "\n",
      "                                          Instituição  Localização Geográfica  \\\n",
      "0       Unidade Local de Saúde do Baixo Alentejo, EPE   38.014123, -7.8721227   \n",
      "1   Centro Hospitalar e Universitário de Coimbra, EPE  40.2191523, -8.4098211   \n",
      "2                        Hospital Garcia de Orta, EPE  38.6658713, -9.1822554   \n",
      "3                                Instituto Gama Pinto   38.7218793, -9.144249   \n",
      "4                              Hospital de Braga, PPP     41.56785, -8.398982   \n",
      "..                                                ...                     ...   \n",
      "95                Hospital Distrital de Santarém, EPE  39.2410946, -8.6937515   \n",
      "96                       Hospital Garcia de Orta, EPE  38.6658713, -9.1822554   \n",
      "97         Centro Hospitalar Entre Douro e Vouga, EPE  40.9293884, -8.5458794   \n",
      "98                             Hospital de Braga, PPP     41.56785, -8.398982   \n",
      "99               Centro Hospitalar Tondela-Viseu, EPE   40.516364, -8.0827433   \n",
      "\n",
      "    Nº Dias de Internamento  Lotação Praticada  \\\n",
      "0                    5753.0              229.0   \n",
      "1                   49170.0             1920.0   \n",
      "2                   15016.0              545.0   \n",
      "3                       0.0                0.0   \n",
      "4                   16267.0                NaN   \n",
      "..                      ...                ...   \n",
      "95                 103894.0              373.0   \n",
      "96                 141447.0              543.0   \n",
      "97                  92377.0              355.0   \n",
      "98                 166155.0              620.0   \n",
      "99                 172066.0              636.0   \n",
      "\n",
      "    Taxa Anual de Ocupação em Internamento  \n",
      "0                                     82.5  \n",
      "1                                     84.1  \n",
      "2                                     90.5  \n",
      "3                                      NaN  \n",
      "4                                      NaN  \n",
      "..                                     ...  \n",
      "95                                    91.5  \n",
      "96                                    85.6  \n",
      "97                                    85.5  \n",
      "98                                    88.0  \n",
      "99                                    80.8  \n",
      "\n",
      "[100 rows x 7 columns]\n"
     ]
    }
   ],
   "source": [
    "import pandas as pd\n",
    "\n",
    "file = pd.read_csv('ocupacao-do-internamento.csv', sep=';', on_bad_lines='skip')\n",
    "\n",
    "print (file.head(100))"
   ]
  }
 ],
 "metadata": {
  "kernelspec": {
   "display_name": "Python 3",
   "language": "python",
   "name": "python3"
  },
  "language_info": {
   "codemirror_mode": {
    "name": "ipython",
    "version": 3
   },
   "file_extension": ".py",
   "mimetype": "text/x-python",
   "name": "python",
   "nbconvert_exporter": "python",
   "pygments_lexer": "ipython3",
   "version": "3.11.7"
  }
 },
 "nbformat": 4,
 "nbformat_minor": 2
}
