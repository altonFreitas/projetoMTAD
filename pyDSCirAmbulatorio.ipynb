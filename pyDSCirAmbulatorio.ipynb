{
 "cells": [
  {
   "cell_type": "code",
   "execution_count": 1,
   "metadata": {},
   "outputs": [
    {
     "name": "stdout",
     "output_type": "stream",
     "text": [
      "    Período                       Região  \\\n",
      "0   2022-04        Região de Saúde Norte   \n",
      "1   2022-04        Região de Saúde Norte   \n",
      "2   2022-04        Região de Saúde Norte   \n",
      "3   2022-05  Região de Saúde do Alentejo   \n",
      "4   2022-05    Região de Saúde do Centro   \n",
      "..      ...                          ...   \n",
      "95  2017-03        Região de Saúde Norte   \n",
      "96  2017-04   Região de Saúde do Algarve   \n",
      "97  2017-04    Região de Saúde do Centro   \n",
      "98  2017-04          Região de Saúde LVT   \n",
      "99  2017-04        Região de Saúde Norte   \n",
      "\n",
      "                                          Instituição  Localização Geográfica  \\\n",
      "0               Centro Hospitalar Tâmega e Sousa, EPE   41.2494561, -8.264901   \n",
      "1   Centro Hospitalar Trás-os-Montes e Alto Douro,...  41.3031784, -7.7515252   \n",
      "2                     Hospital Santa Maria Maior, EPE  41.5324234, -8.6171561   \n",
      "3               Hospital Espírito Santo de Évora, EPE  38.5684861, -7.9032848   \n",
      "4               Centro Hospitalar do Baixo Vouga, EPE  40.6362453, -8.6543716   \n",
      "..                                                ...                     ...   \n",
      "95          Unidade Local de Saúde do Alto Minho, EPE  41.7056054, -8.8252713   \n",
      "96    Centro Hospitalar Universitário do Algarve, EPE  37.0238973, -7.9281554   \n",
      "97                 Hospital Arcebispo João Crisóstomo  40.3470015, -8.5933462   \n",
      "98                            Hospital de Loures, PPP    38.821455, -9.176296   \n",
      "99   Centro Hospitalar Universitário de São João, EPE  41.1831056, -8.6010558   \n",
      "\n",
      "    Nº Episódios Cirúrgicos Ambulat com Procedimentos Ambulatorizáveis  \\\n",
      "0                                                2365                    \n",
      "1                                                1904                    \n",
      "2                                                 847                    \n",
      "3                                                1267                    \n",
      "4                                                2427                    \n",
      "..                                                ...                    \n",
      "95                                               1930                    \n",
      "96                                                868                    \n",
      "97                                                222                    \n",
      "98                                               1359                    \n",
      "99                                               2262                    \n",
      "\n",
      "    Nº Episódios Cirúrgicos Ambulat e Intern com Proced Ambulatorizáveis  \\\n",
      "0                                                2649                      \n",
      "1                                                2135                      \n",
      "2                                                 880                      \n",
      "3                                                1549                      \n",
      "4                                                2761                      \n",
      "..                                                ...                      \n",
      "95                                               2161                      \n",
      "96                                               1097                      \n",
      "97                                                222                      \n",
      "98                                               1631                      \n",
      "99                                               2974                      \n",
      "\n",
      "    % Cir. Ambulatório (GDH) para Procedimentos Ambulatorizáveis  \n",
      "0                                                89.3             \n",
      "1                                                89.2             \n",
      "2                                                96.2             \n",
      "3                                                81.8             \n",
      "4                                                87.9             \n",
      "..                                                ...             \n",
      "95                                               89.3             \n",
      "96                                               79.1             \n",
      "97                                              100.0             \n",
      "98                                               83.3             \n",
      "99                                               76.1             \n",
      "\n",
      "[100 rows x 7 columns]\n"
     ]
    }
   ],
   "source": [
    "import pandas as pd\n",
    "file = pd.read_csv('cirurgias-em-ambulatorio.csv', sep=';', on_bad_lines='skip')\n",
    "print (file.head(100))"
   ]
  }
 ],
 "metadata": {
  "kernelspec": {
   "display_name": "Python 3",
   "language": "python",
   "name": "python3"
  },
  "language_info": {
   "codemirror_mode": {
    "name": "ipython",
    "version": 3
   },
   "file_extension": ".py",
   "mimetype": "text/x-python",
   "name": "python",
   "nbconvert_exporter": "python",
   "pygments_lexer": "ipython3",
   "version": "3.11.7"
  }
 },
 "nbformat": 4,
 "nbformat_minor": 2
}
